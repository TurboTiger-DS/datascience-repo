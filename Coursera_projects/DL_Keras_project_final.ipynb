{
 "cells": [
  {
   "cell_type": "markdown",
   "metadata": {},
   "source": [
    "# Assignment for Introduction to Deep learning & Neural Networks with Keras - Coursera\n",
    "\n",
    "- Data: concrete_data.csv\n",
    "- Target: to predict Strength of Cement basing on properties of it\n",
    "- Models - Deep Learnign models with multiple layers created with Keras"
   ]
  },
  {
   "cell_type": "code",
   "execution_count": 5,
   "metadata": {},
   "outputs": [
    {
     "data": {
      "text/html": [
       "<div>\n",
       "<style scoped>\n",
       "    .dataframe tbody tr th:only-of-type {\n",
       "        vertical-align: middle;\n",
       "    }\n",
       "\n",
       "    .dataframe tbody tr th {\n",
       "        vertical-align: top;\n",
       "    }\n",
       "\n",
       "    .dataframe thead th {\n",
       "        text-align: right;\n",
       "    }\n",
       "</style>\n",
       "<table border=\"1\" class=\"dataframe\">\n",
       "  <thead>\n",
       "    <tr style=\"text-align: right;\">\n",
       "      <th></th>\n",
       "      <th>Cement</th>\n",
       "      <th>Blast Furnace Slag</th>\n",
       "      <th>Fly Ash</th>\n",
       "      <th>Water</th>\n",
       "      <th>Superplasticizer</th>\n",
       "      <th>Coarse Aggregate</th>\n",
       "      <th>Fine Aggregate</th>\n",
       "      <th>Age</th>\n",
       "      <th>Strength</th>\n",
       "    </tr>\n",
       "  </thead>\n",
       "  <tbody>\n",
       "    <tr>\n",
       "      <td>0</td>\n",
       "      <td>540.0</td>\n",
       "      <td>0.0</td>\n",
       "      <td>0.0</td>\n",
       "      <td>162.0</td>\n",
       "      <td>2.5</td>\n",
       "      <td>1040.0</td>\n",
       "      <td>676.0</td>\n",
       "      <td>28</td>\n",
       "      <td>79.99</td>\n",
       "    </tr>\n",
       "    <tr>\n",
       "      <td>1</td>\n",
       "      <td>540.0</td>\n",
       "      <td>0.0</td>\n",
       "      <td>0.0</td>\n",
       "      <td>162.0</td>\n",
       "      <td>2.5</td>\n",
       "      <td>1055.0</td>\n",
       "      <td>676.0</td>\n",
       "      <td>28</td>\n",
       "      <td>61.89</td>\n",
       "    </tr>\n",
       "    <tr>\n",
       "      <td>2</td>\n",
       "      <td>332.5</td>\n",
       "      <td>142.5</td>\n",
       "      <td>0.0</td>\n",
       "      <td>228.0</td>\n",
       "      <td>0.0</td>\n",
       "      <td>932.0</td>\n",
       "      <td>594.0</td>\n",
       "      <td>270</td>\n",
       "      <td>40.27</td>\n",
       "    </tr>\n",
       "    <tr>\n",
       "      <td>3</td>\n",
       "      <td>332.5</td>\n",
       "      <td>142.5</td>\n",
       "      <td>0.0</td>\n",
       "      <td>228.0</td>\n",
       "      <td>0.0</td>\n",
       "      <td>932.0</td>\n",
       "      <td>594.0</td>\n",
       "      <td>365</td>\n",
       "      <td>41.05</td>\n",
       "    </tr>\n",
       "    <tr>\n",
       "      <td>4</td>\n",
       "      <td>198.6</td>\n",
       "      <td>132.4</td>\n",
       "      <td>0.0</td>\n",
       "      <td>192.0</td>\n",
       "      <td>0.0</td>\n",
       "      <td>978.4</td>\n",
       "      <td>825.5</td>\n",
       "      <td>360</td>\n",
       "      <td>44.30</td>\n",
       "    </tr>\n",
       "  </tbody>\n",
       "</table>\n",
       "</div>"
      ],
      "text/plain": [
       "   Cement  Blast Furnace Slag  Fly Ash  Water  Superplasticizer  \\\n",
       "0   540.0                 0.0      0.0  162.0               2.5   \n",
       "1   540.0                 0.0      0.0  162.0               2.5   \n",
       "2   332.5               142.5      0.0  228.0               0.0   \n",
       "3   332.5               142.5      0.0  228.0               0.0   \n",
       "4   198.6               132.4      0.0  192.0               0.0   \n",
       "\n",
       "   Coarse Aggregate  Fine Aggregate  Age  Strength  \n",
       "0            1040.0           676.0   28     79.99  \n",
       "1            1055.0           676.0   28     61.89  \n",
       "2             932.0           594.0  270     40.27  \n",
       "3             932.0           594.0  365     41.05  \n",
       "4             978.4           825.5  360     44.30  "
      ]
     },
     "execution_count": 5,
     "metadata": {},
     "output_type": "execute_result"
    }
   ],
   "source": [
    "#Importing necessary libraries\n",
    "import pandas as pd\n",
    "import numpy as np\n",
    "import keras\n",
    "#Importing Data\n",
    "df = pd.read_csv('concrete_data.csv')\n",
    "df.head()"
   ]
  },
  {
   "cell_type": "code",
   "execution_count": 74,
   "metadata": {},
   "outputs": [
    {
     "name": "stdout",
     "output_type": "stream",
     "text": [
      "Cement                0\n",
      "Blast Furnace Slag    0\n",
      "Fly Ash               0\n",
      "Water                 0\n",
      "Superplasticizer      0\n",
      "Coarse Aggregate      0\n",
      "Fine Aggregate        0\n",
      "Age                   0\n",
      "Strength              0\n",
      "dtype: int64\n"
     ]
    }
   ],
   "source": [
    "#Checking if null observations exist\n",
    "df.isnull().sum()"
   ]
  },
  {
   "cell_type": "markdown",
   "metadata": {},
   "source": [
    "## Preparing data to build models on it\n",
    "- Dividing dataframe for predictor and target variables\n",
    "- Splitting data(70% for training, 30% for testing)"
   ]
  },
  {
   "cell_type": "code",
   "execution_count": 9,
   "metadata": {},
   "outputs": [],
   "source": [
    "df_columns = df.columns\n",
    "\n",
    "X = df[df_columns[df_columns != 'Strength']] \n",
    "y = df['Strength'] "
   ]
  },
  {
   "cell_type": "code",
   "execution_count": 75,
   "metadata": {},
   "outputs": [
    {
     "name": "stdout",
     "output_type": "stream",
     "text": [
      "X_train shape: (721, 8)\n",
      "y_train shape: (721,)\n",
      "X_test shape: (309, 8)\n",
      "Y_test shape: (309,)\n"
     ]
    }
   ],
   "source": [
    "from sklearn.model_selection import train_test_split\n",
    "#Random state if anybody would like to compare results\n",
    "X_train, X_test, y_train, y_test = train_test_split(X, y, test_size=0.3, random_state=10)\n",
    "print(\"X_train shape:\", X_train.shape)\n",
    "print(\"y_train shape:\", y_train.shape)\n",
    "print(\"X_test shape:\", X_test.shape)\n",
    "print(\"Y_test shape:\", y_test.shape)\n",
    "#Number of columns is important to use as input for first layer of DL model\n",
    "n_cols = X.shape[1]\n"
   ]
  },
  {
   "cell_type": "markdown",
   "metadata": {},
   "source": [
    "## Exercise A \n",
    "- Baseline model (1 hidden layer with 10 nodes, 50 epochs, no normalization of data)"
   ]
  },
  {
   "cell_type": "code",
   "execution_count": 23,
   "metadata": {},
   "outputs": [],
   "source": [
    "from keras.models import Sequential\n",
    "from keras.layers import Dense\n",
    "\n",
    "#Function for initializing the model\n",
    "def build_model(optimizer, lossFunction):\n",
    "    model = Sequential()\n",
    "    model.add(Dense(10, activation='relu', input_shape=(n_cols,)))\n",
    "    model.add(Dense(1))\n",
    "        \n",
    "    model.compile(optimizer=optimizer, loss=lossFunction)\n",
    "    return model"
   ]
  },
  {
   "cell_type": "code",
   "execution_count": 48,
   "metadata": {},
   "outputs": [],
   "source": [
    "#Initializing list to store MSE values of each of 50 iterations\n",
    "A_MSE_list=[]\n",
    "#50 iterations as suggested in exercise description\n",
    "for i in range(0,50):\n",
    "    #Assuming that the 50 iterations is to compare how the model is behaving depending on random state.\n",
    "    #Therefore i'm initiating new model each time when starting a loop\n",
    "    modelA = build_model(optimizer='adam', lossFunction='mean_squared_error')\n",
    "    #Fitting the model to train data\n",
    "    modelA.fit(X_train, y_train, epochs=50, verbose=0)\n",
    "    #Evaluating the model on test data (30% of original dataframe)\n",
    "    A_MSE = modelA.evaluate(X_test, y_test, verbose=0)\n",
    "    A_MSE_list.append(A_MSE)"
   ]
  },
  {
   "cell_type": "code",
   "execution_count": 64,
   "metadata": {},
   "outputs": [],
   "source": [
    "#Initializing model errors dictionary - it'll be used for comparison at the end of exercise\n",
    "model_errors = {}\n",
    "#Defining function to calculate models error mean and std\n",
    "def analyze_errors(error_list, model_name):\n",
    "    error_mean = np.mean(error_list)\n",
    "    error_std = np.std(error_list)\n",
    "    model_errors[model_name] = [error_mean, error_std]\n",
    "#Adding mean and std of model A to the dictionary\n",
    "analyze_errors(A_MSE_list, 'Model_A')\n"
   ]
  },
  {
   "cell_type": "code",
   "execution_count": 77,
   "metadata": {},
   "outputs": [
    {
     "name": "stdout",
     "output_type": "stream",
     "text": [
      "Model_A:  [358.4188880535237, 427.4965590076415]\n"
     ]
    }
   ],
   "source": [
    "print('Model_A: ',model_errors['Model_A'])"
   ]
  },
  {
   "cell_type": "markdown",
   "metadata": {},
   "source": [
    "### Summary of model from exercise A\n",
    "Our baseline model with one hidden layer of 10 nodes, and without normalization of data produced MSE mean at 358.41 and standard deviation of MeanSquaredError at 427.49 - not great, not terrible.\n",
    "\n",
    "After couple of exercises we'll be able to compare it to other more sophisticated models\n"
   ]
  },
  {
   "cell_type": "markdown",
   "metadata": {},
   "source": [
    "## Exercise B\n",
    " Model (1 hidden layer with 10 nodes, 50 epochs, with normalization of data)\n",
    " "
   ]
  },
  {
   "cell_type": "code",
   "execution_count": 54,
   "metadata": {},
   "outputs": [
    {
     "data": {
      "text/html": [
       "<div>\n",
       "<style scoped>\n",
       "    .dataframe tbody tr th:only-of-type {\n",
       "        vertical-align: middle;\n",
       "    }\n",
       "\n",
       "    .dataframe tbody tr th {\n",
       "        vertical-align: top;\n",
       "    }\n",
       "\n",
       "    .dataframe thead th {\n",
       "        text-align: right;\n",
       "    }\n",
       "</style>\n",
       "<table border=\"1\" class=\"dataframe\">\n",
       "  <thead>\n",
       "    <tr style=\"text-align: right;\">\n",
       "      <th></th>\n",
       "      <th>Cement</th>\n",
       "      <th>Blast Furnace Slag</th>\n",
       "      <th>Fly Ash</th>\n",
       "      <th>Water</th>\n",
       "      <th>Superplasticizer</th>\n",
       "      <th>Coarse Aggregate</th>\n",
       "      <th>Fine Aggregate</th>\n",
       "      <th>Age</th>\n",
       "    </tr>\n",
       "  </thead>\n",
       "  <tbody>\n",
       "    <tr>\n",
       "      <td>426</td>\n",
       "      <td>-1.027381</td>\n",
       "      <td>0.226058</td>\n",
       "      <td>1.651822</td>\n",
       "      <td>-0.433979</td>\n",
       "      <td>0.585108</td>\n",
       "      <td>0.440892</td>\n",
       "      <td>-0.336516</td>\n",
       "      <td>-0.501222</td>\n",
       "    </tr>\n",
       "    <tr>\n",
       "      <td>835</td>\n",
       "      <td>-1.312531</td>\n",
       "      <td>-0.856472</td>\n",
       "      <td>1.887770</td>\n",
       "      <td>-1.103636</td>\n",
       "      <td>1.974498</td>\n",
       "      <td>-0.384790</td>\n",
       "      <td>0.878312</td>\n",
       "      <td>-0.279597</td>\n",
       "    </tr>\n",
       "    <tr>\n",
       "      <td>242</td>\n",
       "      <td>-0.492485</td>\n",
       "      <td>-0.856472</td>\n",
       "      <td>1.000229</td>\n",
       "      <td>0.638409</td>\n",
       "      <td>-0.017520</td>\n",
       "      <td>0.709688</td>\n",
       "      <td>-0.199318</td>\n",
       "      <td>0.163652</td>\n",
       "    </tr>\n",
       "    <tr>\n",
       "      <td>823</td>\n",
       "      <td>0.390714</td>\n",
       "      <td>-0.856472</td>\n",
       "      <td>-0.846733</td>\n",
       "      <td>1.003676</td>\n",
       "      <td>-1.038638</td>\n",
       "      <td>0.013904</td>\n",
       "      <td>0.329519</td>\n",
       "      <td>2.126612</td>\n",
       "    </tr>\n",
       "    <tr>\n",
       "      <td>157</td>\n",
       "      <td>0.779207</td>\n",
       "      <td>1.334087</td>\n",
       "      <td>-0.846733</td>\n",
       "      <td>-0.780515</td>\n",
       "      <td>0.903161</td>\n",
       "      <td>-0.362926</td>\n",
       "      <td>-0.221768</td>\n",
       "      <td>0.163652</td>\n",
       "    </tr>\n",
       "  </tbody>\n",
       "</table>\n",
       "</div>"
      ],
      "text/plain": [
       "       Cement  Blast Furnace Slag   Fly Ash     Water  Superplasticizer  \\\n",
       "426 -1.027381            0.226058  1.651822 -0.433979          0.585108   \n",
       "835 -1.312531           -0.856472  1.887770 -1.103636          1.974498   \n",
       "242 -0.492485           -0.856472  1.000229  0.638409         -0.017520   \n",
       "823  0.390714           -0.856472 -0.846733  1.003676         -1.038638   \n",
       "157  0.779207            1.334087 -0.846733 -0.780515          0.903161   \n",
       "\n",
       "     Coarse Aggregate  Fine Aggregate       Age  \n",
       "426          0.440892       -0.336516 -0.501222  \n",
       "835         -0.384790        0.878312 -0.279597  \n",
       "242          0.709688       -0.199318  0.163652  \n",
       "823          0.013904        0.329519  2.126612  \n",
       "157         -0.362926       -0.221768  0.163652  "
      ]
     },
     "execution_count": 54,
     "metadata": {},
     "output_type": "execute_result"
    }
   ],
   "source": [
    "#Normalization of predictor variables\n",
    "X_norm = (X - X.mean()) / X.std()\n",
    "\n",
    "X_train_n, X_test_n, y_train, y_test = train_test_split(X_norm, y, test_size=0.3, random_state=10)\n",
    "X_train_n.head()"
   ]
  },
  {
   "cell_type": "code",
   "execution_count": 60,
   "metadata": {},
   "outputs": [],
   "source": [
    "#Initializing list to store MSE values of each of 50 iterations\n",
    "B_MSE_list=[]\n",
    "#50 iterations as suggested in exercise description\n",
    "for i in range(0,50):\n",
    "    #Assuming that the 50 iterations is to compare how the model is behaving depending on random state.\n",
    "    #Therefore i'm initiating new model each time when starting a loop\n",
    "    modelB = build_model(optimizer='adam', lossFunction='mean_squared_error')\n",
    "    #Fitting the model to train data\n",
    "    modelB.fit(X_train_n, y_train, epochs=50, verbose=0)\n",
    "    #Evaluating the model on test data (30% of original dataframe)\n",
    "    B_MSE = modelB.evaluate(X_test_n, y_test, verbose=0)\n",
    "    B_MSE_list.append(B_MSE)\n",
    "\n",
    "#Adding mean and std of model B to the dictionary   \n",
    "analyze_errors(B_MSE_list, 'Model_B')"
   ]
  },
  {
   "cell_type": "code",
   "execution_count": 82,
   "metadata": {},
   "outputs": [
    {
     "name": "stdout",
     "output_type": "stream",
     "text": [
      "model_A :  [358.4188880535237, 427.4965590076415]\n",
      "model_B :  [357.6456736306002, 97.90472390610482]\n"
     ]
    }
   ],
   "source": [
    "analyze_errors(B_MSE_list, 'Model_B')\n",
    "print('model_A : ',model_errors['Model_A'])\n",
    "print('model_B : ',model_errors['Model_B'])"
   ]
  },
  {
   "cell_type": "markdown",
   "metadata": {},
   "source": [
    "### Model B summary\n",
    "Normalizing the data significantly decreased standard deviation of MSE of 50 runs of model fitting.\n",
    "However, mean of MSE has not been lower after normalizing the data which is interesting.\n",
    "\n",
    "All in all, we have more consistent model, however accuracy remains almost the same after normalizing the data."
   ]
  },
  {
   "cell_type": "markdown",
   "metadata": {},
   "source": [
    "## Exercise C\n",
    "Model (1 hidden layer with 10 nodes, increased epochs to 100, with normalization of data)\n"
   ]
  },
  {
   "cell_type": "code",
   "execution_count": 66,
   "metadata": {
    "collapsed": true
   },
   "outputs": [
    {
     "name": "stdout",
     "output_type": "stream",
     "text": [
      "{'Model_A': [358.4188880535237, 427.4965590076415], 'Model_B': [357.6456736306002, 97.90472390610482], 'Model_C': [151.7652090123248, 11.821520687696443]}\n"
     ]
    }
   ],
   "source": [
    "#Initializing list to store MSE values of each of 50 iterations\n",
    "C_MSE_list=[]\n",
    "#50 iterations as suggested in exercise description\n",
    "for i in range(0,50):\n",
    "    #Assuming that the 50 iterations is to compare how the model is behaving depending on random state.\n",
    "    #Therefore i'm initiating new model each time when starting a loop\n",
    "    modelC = build_model(optimizer='adam', lossFunction='mean_squared_error')\n",
    "    #Fitting the model to normalized train data.\n",
    "    #Using 100 epochs which in theory should increasy fittnes of the model\n",
    "    modelC.fit(X_train_n, y_train, epochs=100, verbose=0)\n",
    "    #Evaluating the model on test data (30% of original dataframe)\n",
    "    C_MSE = modelC.evaluate(X_test_n, y_test, verbose=0)\n",
    "    C_MSE_list.append(C_MSE)\n",
    "\n",
    "   \n",
    "#Adding mean and std of model C to the dictionary   \n",
    "analyze_errors(C_MSE_list, 'Model_C')"
   ]
  },
  {
   "cell_type": "code",
   "execution_count": 83,
   "metadata": {},
   "outputs": [
    {
     "name": "stdout",
     "output_type": "stream",
     "text": [
      "model_A :  [358.4188880535237, 427.4965590076415]\n",
      "model_B :  [357.6456736306002, 97.90472390610482]\n",
      "model_C :  [151.7652090123248, 11.821520687696443]\n"
     ]
    }
   ],
   "source": [
    "print('model_A : ',model_errors['Model_A'])\n",
    "print('model_B : ',model_errors['Model_B'])\n",
    "print('model_C : ',model_errors['Model_C'])"
   ]
  },
  {
   "cell_type": "markdown",
   "metadata": {},
   "source": [
    "### Model C summary\n",
    "Increasing number of epochs, meaning more iterations for model to train signifanctly increased fitness of the model, and therefore accuracy of it. Model is still not overfitted as mean of MSE decreased from 357.6 (Model B) to 151.7 (Model C).\n",
    "Standard deviation is also decreased after changing number of epochs to 100\n",
    "\n",
    "All in all, we have more consistent and accurate model than in exercise B."
   ]
  },
  {
   "cell_type": "markdown",
   "metadata": {},
   "source": [
    "## Exercise C\n",
    "Model (3 hidden layer with 10 nodes, 50 epochs, with normalization of data)"
   ]
  },
  {
   "cell_type": "code",
   "execution_count": 67,
   "metadata": {},
   "outputs": [
    {
     "name": "stdout",
     "output_type": "stream",
     "text": [
      "{'Model_A': [358.4188880535237, 427.4965590076415], 'Model_B': [357.6456736306002, 97.90472390610482], 'Model_C': [151.7652090123248, 11.821520687696443], 'Model_D': [86.51849243830706, 16.714986485210186]}\n"
     ]
    }
   ],
   "source": [
    "#We need to define new build_model function to include 3 hidden layers instead of 1\n",
    "def build_model_D(optimizer, lossFunction):\n",
    "    model = Sequential()\n",
    "    model.add(Dense(10, activation='relu', input_shape=(n_cols,)))\n",
    "    model.add(Dense(10, activation='relu', input_shape=(10,)))\n",
    "    model.add(Dense(10, activation='relu', input_shape=(10,)))\n",
    "    model.add(Dense(1))\n",
    "        \n",
    "    model.compile(optimizer=optimizer, loss=lossFunction)\n",
    "    return model\n",
    "\n",
    "#Initializing list to store MSE values of each of 50 iterations\n",
    "D_MSE_list=[]\n",
    "#50 iterations as suggested in exercise description\n",
    "for i in range(0,50):\n",
    "    #Assuming that the 50 iterations is to compare how the model is behaving depending on random state.\n",
    "    #Therefore i'm initiating new model each time when starting a loop\n",
    "    modelD = build_model_D(optimizer='adam', lossFunction='mean_squared_error')\n",
    "    #Fitting the model to normalized train data.\n",
    "    modelD.fit(X_train_n, y_train, epochs=100, verbose=0)\n",
    "    #Evaluating the model on test data (30% of original dataframe)\n",
    "    D_MSE = modelD.evaluate(X_test_n, y_test, verbose=0)\n",
    "    D_MSE_list.append(D_MSE)\n",
    "\n",
    "#Adding mean and std of model D to the dictionary      \n",
    "analyze_errors(D_MSE_list, 'Model_D')\n",
    "print(model_errors)"
   ]
  },
  {
   "cell_type": "code",
   "execution_count": 70,
   "metadata": {},
   "outputs": [
    {
     "data": {
      "text/html": [
       "<div>\n",
       "<style scoped>\n",
       "    .dataframe tbody tr th:only-of-type {\n",
       "        vertical-align: middle;\n",
       "    }\n",
       "\n",
       "    .dataframe tbody tr th {\n",
       "        vertical-align: top;\n",
       "    }\n",
       "\n",
       "    .dataframe thead th {\n",
       "        text-align: right;\n",
       "    }\n",
       "</style>\n",
       "<table border=\"1\" class=\"dataframe\">\n",
       "  <thead>\n",
       "    <tr style=\"text-align: right;\">\n",
       "      <th></th>\n",
       "      <th>Mean</th>\n",
       "      <th>Std</th>\n",
       "    </tr>\n",
       "  </thead>\n",
       "  <tbody>\n",
       "    <tr>\n",
       "      <td>Model_A</td>\n",
       "      <td>358.418888</td>\n",
       "      <td>427.496559</td>\n",
       "    </tr>\n",
       "    <tr>\n",
       "      <td>Model_B</td>\n",
       "      <td>357.645674</td>\n",
       "      <td>97.904724</td>\n",
       "    </tr>\n",
       "    <tr>\n",
       "      <td>Model_C</td>\n",
       "      <td>151.765209</td>\n",
       "      <td>11.821521</td>\n",
       "    </tr>\n",
       "    <tr>\n",
       "      <td>Model_D</td>\n",
       "      <td>86.518492</td>\n",
       "      <td>16.714986</td>\n",
       "    </tr>\n",
       "  </tbody>\n",
       "</table>\n",
       "</div>"
      ],
      "text/plain": [
       "               Mean         Std\n",
       "Model_A  358.418888  427.496559\n",
       "Model_B  357.645674   97.904724\n",
       "Model_C  151.765209   11.821521\n",
       "Model_D   86.518492   16.714986"
      ]
     },
     "execution_count": 70,
     "metadata": {},
     "output_type": "execute_result"
    }
   ],
   "source": [
    "#Creating dataframe of models errors\n",
    "model_errors_df = pd.DataFrame.from_dict(model_errors, orient='index', columns=['Mean', 'Std'])\n",
    "model_errors_df"
   ]
  },
  {
   "cell_type": "markdown",
   "metadata": {},
   "source": [
    "## Model D summary\n",
    "As we can see in the table and on bar plot, by adding more layers to model B, we created most accurate model of all 4.\n",
    "\n",
    "Mean of MSE is lowest at 86.5 level, However due to lower number of epochs(50) than in exercise C(100), standard deviation is little bit higher. We can accept it since accuracy of the model is really satisfactory. \n",
    "\n",
    "What i'd suggest for future exercises is to increase number of epochs to 100 in model D to check how good it can behave. However we have to be aware that by increasing model layers number and epochs as well we might overfit the data to train sample, and it might behave poorly on test sample."
   ]
  },
  {
   "cell_type": "code",
   "execution_count": 73,
   "metadata": {},
   "outputs": [
    {
     "data": {
      "image/png": "[encoded data removed]",
      "text/plain": [
       "<Figure size 432x288 with 1 Axes>"
      ]
     },
     "metadata": {
      "needs_background": "light"
     },
     "output_type": "display_data"
    }
   ],
   "source": [
    "%matplotlib inline\n",
    "ax = model_errors_df.plot.bar(rot=45)"
   ]
  }
 ],
 "metadata": {
  "kernelspec": {
   "display_name": "Python 3",
   "language": "python",
   "name": "python3"
  },
  "language_info": {
   "codemirror_mode": {
    "name": "ipython",
    "version": 3
   },
   "file_extension": ".py",
   "mimetype": "text/x-python",
   "name": "python",
   "nbconvert_exporter": "python",
   "pygments_lexer": "ipython3",
   "version": "3.7.4"
  }
 },
 "nbformat": 4,
 "nbformat_minor": 2
}
